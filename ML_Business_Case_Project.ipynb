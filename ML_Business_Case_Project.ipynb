{
  "nbformat": 4,
  "nbformat_minor": 0,
  "metadata": {
    "colab": {
      "name": "ML_Business_Case_Project.ipynb",
      "provenance": [],
      "authorship_tag": "ABX9TyNvRnc0cvkJMkeEe8mQvXuC",
      "include_colab_link": true
    },
    "kernelspec": {
      "name": "python3",
      "display_name": "Python 3"
    }
  },
  "cells": [
    {
      "cell_type": "markdown",
      "metadata": {
        "id": "view-in-github",
        "colab_type": "text"
      },
      "source": [
        "<a href=\"https://colab.research.google.com/github/SushiFou/ML-Business-Case-Project/blob/main/ML_Business_Case_Project.ipynb\" target=\"_parent\"><img src=\"https://colab.research.google.com/assets/colab-badge.svg\" alt=\"Open In Colab\"/></a>"
      ]
    },
    {
      "cell_type": "markdown",
      "metadata": {
        "id": "E8y8xT1Zu4VS"
      },
      "source": [
        "# <div align=\"center\"><b> Machine Learning Business Case Project </b></div>\r\n",
        "---\r\n",
        "<div align=\"center\">Authors : Maxime Lepeytre | Soumaya Sabry | Alexandre Zajac | Olivier Boivin | Yann Kervella\r\n",
        "\r\n",
        "<center>\r\n",
        "<img src=\"https://github.com/SushiFou/ML-Business-Case-Project/blob/main/cover_image_tech.jpg\"/>\r\n",
        "</center>\r\n",
        "</div>"
      ]
    },
    {
      "cell_type": "markdown",
      "metadata": {
        "id": "G4VKb5nUvmjF"
      },
      "source": [
        "## <div align=\"center\"><font color='red'> DON'T FORGET TO COMMIT CHANGES ON GITHUB OR WORK WILL BE LOST <font></div>"
      ]
    },
    {
      "cell_type": "markdown",
      "metadata": {
        "id": "p38z8umLvhLT"
      },
      "source": [
        "## Context"
      ]
    },
    {
      "cell_type": "markdown",
      "metadata": {
        "id": "q_EE7o6nwIoL"
      },
      "source": [
        "Vous êtes consultant data scientist dans une grande entreprise de conseil\r\n",
        "française. Votre client est une entreprise qui génère beaucoup de données\r\n",
        "mais pour le moment aucun modèle de Machine Learning n'a été mis en\r\n",
        "place pour les exploiter. Elle a donc naturellement fait appel à vous.\r\n",
        "\r\n",
        "L’entreprise en question exploite plus de 3 000 magasins dans 7 pays\r\n",
        "européens. Actuellement, les directeurs de magasin sont chargés d’estimer\r\n",
        "leurs ventes quotidiennes jusqu'à six semaines à l'avance. Les ventes des\r\n",
        "magasins sont influencées par de nombreux facteurs, notamment les\r\n",
        "promotions, la concurrence, les vacances scolaires, la saisonnalité et la\r\n",
        "localité. Avec des milliers de gestionnaires individuels prédisant les ventes\r\n",
        "en fonction de leur situation particulière, la précision des résultats peut\r\n",
        "être très variable.\r\n",
        "\r\n",
        "Avec votre équipe de consultant data scientists, vous récupérez les\r\n",
        "données disponibles et allez mener un projet complet pour les exploiter et\r\n",
        "répondre à la problématique. Vous devez préparer et soutenir, pour le 21\r\n",
        "janvier 2021, un rendu sous forme de slides qui tirera les conclusions de\r\n",
        "votre travail, incluant une démonstration présentant les résultats du\r\n",
        "modèle de Machine Learning de manière visuelle à destination des\r\n",
        "utilisateur finaux. Vous aurez 12 minutes pour présenter votre travail à\r\n",
        "votre donneur d’ordre client."
      ]
    },
    {
      "cell_type": "markdown",
      "metadata": {
        "id": "nTaGjXOYviT-"
      },
      "source": [
        "## Data Exploration"
      ]
    },
    {
      "cell_type": "code",
      "metadata": {
        "id": "LUmuUO0utxIn"
      },
      "source": [
        "!gdown \"https://drive.google.com/uc?id=\""
      ],
      "execution_count": null,
      "outputs": []
    }
  ]
}